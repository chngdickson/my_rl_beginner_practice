{
 "cells": [
  {
   "cell_type": "markdown",
   "metadata": {},
   "source": [
    "## Policy Explanation\n",
    "- **Target policy:** a policy that is learned about and that becomes the optimal policy\n",
    "- **Behaviour policy** : a policy that is more exploratory and is used to generate behaviour. Much like epsilon greedy\n",
    "\n",
    "So what does **on-policy** and **off-policy** mean?\n",
    "- **on-policy** : a policy using **target policy** only.\n",
    "- **off-policy**: Using both **target-policy** and **behaviour-policy**. \n",
    "\n",
    "\n",
    "### Grid World Problem\n",
    "In this deterministic Environment (Gridworld). The agent spawns in a starting position and needs to find a goal state on a discrete stationary grid. The agent has four different actions he can perform, these are: [Up (0), Right (1), Left (2), Down (3)]. The following image shows the environment:\n",
    "\n",
    "![environment](images/gridworld.png)\n",
    "\n",
    "Every field in the environment has its state number in the upper left corner. Starting position is state 8 in the bottom left hand corner. For each step the agent can move one field in one direction. If the agent is at the edge of the environment, for example state 4 and takes action 2 (move left) he bounces back to its original position, that is state 4. Field nr 5 are rocks and can not be entered. the agent moves back to its position. The goal state is **state 3** where the agent receives a reward of **+1** below state 3 is state 7. If the agent enters **state 7** he receives a negative reward of **-1**. \n",
    "\n",
    "For **each step** the agent takes he receives a reward of **-0.1**. One episode ends if the agent reaches the goal state or after 30 interactions. "
   ]
  },
  {
   "cell_type": "code",
   "execution_count": 1,
   "metadata": {},
   "outputs": [],
   "source": [
    "import numpy as np\n",
    "import matplotlib.pyplot as plt\n",
    "import seaborn as sns\n",
    "plt.rcParams['font.family'] = \"serif\"\n",
    "import copy\n",
    "import random\n",
    "from gridworld import *"
   ]
  },
  {
   "cell_type": "markdown",
   "metadata": {},
   "source": [
    "## V(s) in a model free environment\n",
    "- Model-based : The model must have an oracle/god that provides the **P_ss: State Transition probabilities**. \n",
    "- Model-free  : Rely on **real samples** obtained from the environment to generate/predict V(s)\n",
    "\n",
    "In accordance to Lecture 4, we'll be examining 4 Different algorithms that evaluates **V(s) in a model free environment**\n",
    "1. Monte Carlo first-visit prediction\n",
    "2. Monte Carlo every-visit prediction\n",
    "3. TD(0) prediction\n",
    "4. TD(λ) prediction\n"
   ]
  },
  {
   "cell_type": "markdown",
   "metadata": {},
   "source": [
    "### 1 Monte Carlo first visit prediction\n",
    "![mc prediction onpolicy](images/pseudo_mc_pred.png)"
   ]
  },
  {
   "cell_type": "code",
   "execution_count": 2,
   "metadata": {},
   "outputs": [],
   "source": [
    "# init the environment\n",
    "max_episodes = 3000\n",
    "env = Gridworld(step_cost=-0.1,max_ep_length=30) #Every step will give a reward of -0.1\n",
    "\n",
    "\n",
    "# Initialize V(s) and Returns(s)\n",
    "# V(s) \n",
    "state_value_grid = np.zeros(12)  \n",
    "state_value_grid[3] = 1 # Goal\n",
    "state_value_grid[7] = -1 # Death\n",
    "\n",
    "# Returns(s)\n",
    "# returns for each state: Added after each episode. Terminates adding when 3000 episodes are done.\n",
    "Returns = {0:[], 1:[], 2:[], 3:[],\n",
    "           4:[], 5:[], 6:[], 7:[],\n",
    "           8:[], 9:[], 10:[], 11:[]}\n",
    "gamma = 0.99 # discounting factor"
   ]
  },
  {
   "cell_type": "code",
   "execution_count": 3,
   "metadata": {},
   "outputs": [],
   "source": [
    "# For each episode\n",
    "for ep in range(max_episodes):\n",
    "    state = env.reset()\n",
    "    # Init: Generate an episode following pi : [(S0,R1), (S1,R2)] , Yes A0 is not needed because our target policy is random\n",
    "    trajectory = []\n",
    "    G = 0\n",
    "    \n",
    "    # Loop forever\n",
    "    while True:\n",
    "        action = np.random.randint(4)\n",
    "        next_state, reward, game_over = env.step(action)\n",
    "        trajectory.append((state,reward))\n",
    "        state = next_state\n",
    "        if game_over:\n",
    "            break\n",
    "    # Terminated, reverse the order to only get first state\n",
    "    for idx, step in enumerate(trajectory[::-1]):\n",
    "        state, Reward_t_plus1 = step[0], step[1] \n",
    "        G = gamma*G + Reward_t_plus1\n",
    "        #print(np.array(trajectory[::-1])[:,0][idx+1:])\n",
    "        if state not in np.array(trajectory[::-1])[:,0][idx+1:]:\n",
    "            # Total return S(s) = S(s) + Gt \n",
    "            Returns[state].append(G) \n",
    "            # V(s) = S(s)/N(s)\n",
    "            state_value_grid[state] = np.mean(Returns[state]) \n",
    "        "
   ]
  },
  {
   "cell_type": "code",
   "execution_count": 4,
   "metadata": {},
   "outputs": [
    {
     "data": {
      "image/png": "[encoded data removed]",
      "text/plain": [
       "<Figure size 720x360 with 2 Axes>"
      ]
     },
     "metadata": {
      "needs_background": "light"
     },
     "output_type": "display_data"
    }
   ],
   "source": [
    "# Plot of the grid with values of each state\n",
    "plot_state_value_grid(state_value_grid.reshape((3,4)))"
   ]
  },
  {
   "cell_type": "markdown",
   "metadata": {},
   "source": [
    "Traceback of trajectory for 1 traceback\n",
    "![traceback_for_1_episode](images/Monte_carlo_first_prediction_trace.jpg)\n"
   ]
  },
  {
   "cell_type": "markdown",
   "metadata": {},
   "source": [
    "## 2. Monte-Carlo every visit prediction\n",
    "![Monte_carlo_every_visit](images/MC_every_visit.png)\n",
    "\n",
    "The difference between Monte-Carlo every visit and first visit is a super subtle difference, check the red comment highlighted below to see the difference."
   ]
  },
  {
   "cell_type": "code",
   "execution_count": 138,
   "metadata": {},
   "outputs": [],
   "source": [
    "# init the environment\n",
    "max_episodes = 3000\n",
    "env = Gridworld(step_cost=-0.1,max_ep_length=30) #Every step will give a reward of -0.1\n",
    "\n",
    "\n",
    "# Initialize V(s) and Returns(s)\n",
    "# V(s) \n",
    "state_value_grid = np.zeros(12)  \n",
    "state_value_grid[3] = 1 # Goal\n",
    "state_value_grid[7] = -1 # Death\n",
    "\n",
    "# Returns(s)\n",
    "# returns for each state: Added after each episode. Terminates adding when 3000 episodes are done.\n",
    "Returns = {0:[], 1:[], 2:[], 3:[],\n",
    "           4:[], 5:[], 6:[], 7:[],\n",
    "           8:[], 9:[], 10:[], 11:[]}\n",
    "gamma = 0.99 # discounting factor"
   ]
  },
  {
   "cell_type": "code",
   "execution_count": 139,
   "metadata": {},
   "outputs": [],
   "source": [
    "# For each episode\n",
    "for ep in range(max_episodes):\n",
    "    state = env.reset()\n",
    "    # Init: Generate an episode following pi : [(S0,R1), (S1,R2)] , Yes A0 is not needed because our target policy is random\n",
    "    trajectory = []\n",
    "    G = 0\n",
    "    \n",
    "    # Loop forever\n",
    "    while True:\n",
    "        action = np.random.randint(4)\n",
    "        next_state, reward, game_over = env.step(action)\n",
    "        trajectory.append((state,reward))\n",
    "        state = next_state\n",
    "        if game_over:\n",
    "            break\n",
    "    # Terminated, reverse the order to only get first state\n",
    "    for idx, step in enumerate(trajectory[::-1]):\n",
    "        state, Reward_t_plus1 = step[0], step[1] \n",
    "        G = gamma*G + Reward_t_plus1\n",
    "        '''\n",
    "        Literally just this line is gone\n",
    "        ## if state not in np.array(trajectory[::-1])[:,0][idx+1:]:\n",
    "        '''\n",
    "        # Total return S(s) = S(s) + Gt \n",
    "        Returns[state].append(G) \n",
    "        # V(s) = S(s)/N(s)\n",
    "        state_value_grid[state] = np.mean(Returns[state]) "
   ]
  },
  {
   "cell_type": "code",
   "execution_count": 140,
   "metadata": {},
   "outputs": [
    {
     "data": {
      "image/png": "[encoded data removed]",
      "text/plain": [
       "<Figure size 720x360 with 2 Axes>"
      ]
     },
     "metadata": {
      "needs_background": "light"
     },
     "output_type": "display_data"
    }
   ],
   "source": [
    "# Plot of the grid with values of each state\n",
    "plot_state_value_grid(state_value_grid.reshape((3,4)))"
   ]
  },
  {
   "cell_type": "markdown",
   "metadata": {},
   "source": [
    "## 3. TD(0)\n",
    "The difference between TD(0) and Monte carlo is that TD updates the state value while the game is not even over.\n",
    "![TD(0)](images/TD_0.png)"
   ]
  },
  {
   "cell_type": "code",
   "execution_count": 144,
   "metadata": {},
   "outputs": [],
   "source": [
    "# init the environment\n",
    "max_episodes = 3000\n",
    "env = Gridworld(step_cost=-0.1, max_ep_length=30)\n",
    "\n",
    "# Initialize V(s) except V(terminal)\n",
    "state_value_grid = np.zeros(12)  \n",
    "state_value_grid[3] = 1 # Goal\n",
    "state_value_grid[7] = -1 # Death\n",
    "\n",
    "alpha = 0.1\n",
    "gamma = 0.99"
   ]
  },
  {
   "cell_type": "code",
   "execution_count": 145,
   "metadata": {},
   "outputs": [],
   "source": [
    "for ep in range(max_episodes):\n",
    "    N = 0\n",
    "    state = env.reset()\n",
    "    while True:\n",
    "        # Action given by policy for each State\n",
    "        action = np.random.randint(4)\n",
    "        next_state, reward, game_over = env.step(action)\n",
    "        \n",
    "        # Updating V(s), while not game over\n",
    "        state_value_grid[state] = state_value_grid[state] + alpha*(reward+gamma*state_value_grid[next_state]-state_value_grid[state])\n",
    "        state = next_state\n",
    "\n",
    "        if game_over :\n",
    "            break"
   ]
  },
  {
   "cell_type": "code",
   "execution_count": 146,
   "metadata": {},
   "outputs": [
    {
     "data": {
      "image/png": "[encoded data removed]",
      "text/plain": [
       "<Figure size 720x360 with 2 Axes>"
      ]
     },
     "metadata": {
      "needs_background": "light"
     },
     "output_type": "display_data"
    }
   ],
   "source": [
    "# Plot of the grid with values of each state\n",
    "plot_state_value_grid(state_value_grid.reshape((3,4)))"
   ]
  },
  {
   "cell_type": "code",
   "execution_count": 125,
   "metadata": {},
   "outputs": [],
   "source": [
    "# init the environment\n",
    "max_episodes = 50\n",
    "env = Gridworld(step_cost=-0.1, max_ep_length=30)\n",
    "\n",
    "# Initialize V(s) except V(terminal)\n",
    "state_value_grid = np.zeros(12)  \n",
    "state_value_grid[3] = 1 # Goal\n",
    "state_value_grid[7] = -1 # Death\n",
    "\n",
    "alpha = 0.1\n",
    "gamma = 0.99\n",
    "lambda1 = 0.9\n",
    "eligibility = np.zeros(12)"
   ]
  },
  {
   "cell_type": "code",
   "execution_count": 133,
   "metadata": {},
   "outputs": [],
   "source": [
    "for ep in range(3000):\n",
    "    state = env.reset()\n",
    "    while True:\n",
    "        action  = np.random.randint(4)\n",
    "        next_state, reward, game_over = env.step(action)\n",
    "        \n",
    "        delta = reward + gamma*state_value_grid[next_state] - state_value_grid[state]\n",
    "        eligibility[state] = eligibility[state] + 1\n",
    "        \n",
    "        #for s in range(12):\n",
    "        state_value_grid[state] = state_value_grid[state] + (alpha*delta*eligibility[state])\n",
    "        eligibility[state] = (gamma*lambda1)*eligibility[state]\n",
    "\n",
    "        state = next_state\n",
    "        #N+=1\n",
    "        if game_over :\n",
    "            break\n"
   ]
  },
  {
   "cell_type": "code",
   "execution_count": 134,
   "metadata": {},
   "outputs": [
    {
     "data": {
      "image/png": "[encoded data removed]",
      "text/plain": [
       "<Figure size 720x360 with 2 Axes>"
      ]
     },
     "metadata": {
      "needs_background": "light"
     },
     "output_type": "display_data"
    }
   ],
   "source": [
    "# Plot of the grid with values of each state\n",
    "plot_state_value_grid(state_value_grid.reshape((3,4)))"
   ]
  },
  {
   "cell_type": "code",
   "execution_count": null,
   "metadata": {},
   "outputs": [],
   "source": [
    "def compute_td_lambda(rewards, values, termination_type, gamma=0.99, lambda_=0.95):\n",
    "    if termination_type == 1: # end by reaching goal (terminal condition)\n",
    "        values[-1] = 0\n",
    "        return_ = 0\n",
    "    elif termination_type == 2: # end by timeout\n",
    "        return_ = values[-1]\n",
    "    else:\n",
    "        raise Exception(\"Wrong termination_type input\")\n",
    "    returns = []\n",
    "    # \n",
    "    for t in reversed(range(len(rewards))):\n",
    "        delta = rewards[t] + (1-lambda_) * gamma * values[t+1]\n",
    "        return_ =  delta + gamma * lambda_ * return_ #delta is TD(0), gamma = TD(1)\n",
    "        returns.insert(0, return_)\n",
    "    return returns"
   ]
  },
  {
   "cell_type": "code",
   "execution_count": null,
   "metadata": {},
   "outputs": [],
   "source": []
  }
 ],
 "metadata": {
  "kernelspec": {
   "display_name": "Python 3",
   "language": "python",
   "name": "python3"
  },
  "language_info": {
   "codemirror_mode": {
    "name": "ipython",
    "version": 3
   },
   "file_extension": ".py",
   "mimetype": "text/x-python",
   "name": "python",
   "nbconvert_exporter": "python",
   "pygments_lexer": "ipython3",
   "version": "3.8.5"
  }
 },
 "nbformat": 4,
 "nbformat_minor": 4
}
